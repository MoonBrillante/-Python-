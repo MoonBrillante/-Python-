{
 "cells": [
  {
   "cell_type": "markdown",
   "metadata": {},
   "source": [
    "# 第1章 网络爬虫简介(用python写网络爬虫--学习记录)"
   ]
  },
  {
   "cell_type": "markdown",
   "metadata": {},
   "source": [
    "## 1.1 检查  <a href='http://www.robotstxt.org'>robots.txt</a>"
   ]
  },
  {
   "cell_type": "code",
   "execution_count": 2,
   "metadata": {},
   "outputs": [
    {
     "ename": "SyntaxError",
     "evalue": "invalid syntax (<ipython-input-2-9d25e08030c7>, line 3)",
     "output_type": "error",
     "traceback": [
      "\u001b[1;36m  File \u001b[1;32m\"<ipython-input-2-9d25e08030c7>\"\u001b[1;36m, line \u001b[1;32m3\u001b[0m\n\u001b[1;33m    Disallow: /\u001b[0m\n\u001b[1;37m              ^\u001b[0m\n\u001b[1;31mSyntaxError\u001b[0m\u001b[1;31m:\u001b[0m invalid syntax\n"
     ]
    }
   ],
   "source": [
    "# section 1\n",
    "User-agent: BadCrawler  #禁止用户代理为BadCrawler的爬虫爬取该网站 \n",
    "Disallow: /\n",
    "\n",
    "# section 2\n",
    "User-agent: *\n",
    "Disallow: /trap #用于封禁那些爬取了不允许链接的恶意爬虫\n",
    "Crawl-delay: 5 #无论使用哪种用户代理，都应该在两次下载请求之间给出5秒的抓取延迟，以避免服务器过载\n",
    "\n",
    "# section 3\n",
    "Sitemap: http://example.webscraping.com/sitemap.xml #定义了一个Sitemap文件"
   ]
  },
  {
   "cell_type": "markdown",
   "metadata": {},
   "source": [
    "## 1.2 检查<a href ='https://www.sitemaps.org/protocol.html'>网站地图</a>"
   ]
  },
  {
   "cell_type": "markdown",
   "metadata": {},
   "source": [
    "网站提供的Sitemap文析（即网站地图）可以帮助爬虫定位网站最内容\n",
    "\n",
    "网站地图提供了所有网页的链接。"
   ]
  },
  {
   "cell_type": "markdown",
   "metadata": {},
   "source": [
    "## 1.3估算网站大小"
   ]
  },
  {
   "cell_type": "markdown",
   "metadata": {},
   "source": [
    "因为Google很可能已经爬取过我们感兴趣的网站。我们可以通过Google搜索的site关键词过滤域名结果，从而获取该信息。我们可以从<a href='https://www.google.com/advanced_search'>http://www.google.com/advanced_search</a>了解到该 接口及其他高级搜索参数的用法."
   ]
  },
  {
   "cell_type": "markdown",
   "metadata": {},
   "source": [
    "## 1.4 识别网站所用技术"
   ]
  },
  {
   "cell_type": "code",
   "execution_count": 3,
   "metadata": {},
   "outputs": [
    {
     "data": {
      "text/plain": [
       "{'web-servers': ['Nginx'],\n",
       " 'web-frameworks': ['Web2py', 'Twitter Bootstrap'],\n",
       " 'programming-languages': ['Python'],\n",
       " 'javascript-frameworks': ['jQuery', 'Modernizr', 'jQuery UI']}"
      ]
     },
     "execution_count": 3,
     "metadata": {},
     "output_type": "execute_result"
    }
   ],
   "source": [
    "import builtwith #该模块将URL作为参数，下载该URL并对其进行解析，然后返回该网站使用的技术。 \n",
    "builtwith.parse('http://example.webscraping.com')"
   ]
  },
  {
   "cell_type": "code",
   "execution_count": 4,
   "metadata": {},
   "outputs": [
    {
     "data": {
      "text/plain": [
       "{'javascript-frameworks': ['Prototype', 'jQuery']}"
      ]
     },
     "execution_count": 4,
     "metadata": {},
     "output_type": "execute_result"
    }
   ],
   "source": [
    "builtwith.parse('http://www.sina.com.cn')"
   ]
  },
  {
   "cell_type": "code",
   "execution_count": 5,
   "metadata": {},
   "outputs": [
    {
     "data": {
      "text/plain": [
       "{'captchas': ['reCAPTCHA']}"
      ]
     },
     "execution_count": 5,
     "metadata": {},
     "output_type": "execute_result"
    }
   ],
   "source": [
    "builtwith.parse('http://www.twitter.com')"
   ]
  },
  {
   "cell_type": "code",
   "execution_count": 6,
   "metadata": {},
   "outputs": [
    {
     "name": "stdout",
     "output_type": "stream",
     "text": [
      "Error: <urlopen error [Errno 11004] getaddrinfo failed>\n"
     ]
    },
    {
     "data": {
      "text/plain": [
       "{}"
      ]
     },
     "execution_count": 6,
     "metadata": {},
     "output_type": "execute_result"
    }
   ],
   "source": [
    "builtwith.parse('http://www.facebook.com')"
   ]
  },
  {
   "cell_type": "markdown",
   "metadata": {},
   "source": [
    "## 1.5 寻找网站所有者"
   ]
  },
  {
   "cell_type": "markdown",
   "metadata": {},
   "source": [
    "使用WHOIS协议查询域名的注册者是谁。 Python中有一个针对该协议的封装库，其文档地址为 https://pypi.python.\n",
    "org/pypi/python -whoi s ， 我们可以通过 pi p 进行 安装。"
   ]
  },
  {
   "cell_type": "code",
   "execution_count": 11,
   "metadata": {},
   "outputs": [
    {
     "data": {
      "text/plain": [
       "{'domain_name': ['APPSPOT.COM', 'appspot.com'],\n",
       " 'registrar': 'MarkMonitor, Inc.',\n",
       " 'whois_server': 'whois.markmonitor.com',\n",
       " 'referral_url': None,\n",
       " 'updated_date': [datetime.datetime(2018, 2, 6, 10, 30, 28),\n",
       "  datetime.datetime(2018, 2, 6, 2, 30, 29)],\n",
       " 'creation_date': [datetime.datetime(2005, 3, 10, 2, 27, 55),\n",
       "  datetime.datetime(2005, 3, 9, 18, 27, 55)],\n",
       " 'expiration_date': [datetime.datetime(2019, 3, 10, 1, 27, 55),\n",
       "  datetime.datetime(2019, 3, 9, 0, 0)],\n",
       " 'name_servers': ['NS1.GOOGLE.COM',\n",
       "  'NS2.GOOGLE.COM',\n",
       "  'NS3.GOOGLE.COM',\n",
       "  'NS4.GOOGLE.COM',\n",
       "  'ns2.google.com',\n",
       "  'ns1.google.com',\n",
       "  'ns4.google.com',\n",
       "  'ns3.google.com'],\n",
       " 'status': ['clientDeleteProhibited https://icann.org/epp#clientDeleteProhibited',\n",
       "  'clientTransferProhibited https://icann.org/epp#clientTransferProhibited',\n",
       "  'clientUpdateProhibited https://icann.org/epp#clientUpdateProhibited',\n",
       "  'serverDeleteProhibited https://icann.org/epp#serverDeleteProhibited',\n",
       "  'serverTransferProhibited https://icann.org/epp#serverTransferProhibited',\n",
       "  'serverUpdateProhibited https://icann.org/epp#serverUpdateProhibited',\n",
       "  'clientUpdateProhibited (https://www.icann.org/epp#clientUpdateProhibited)',\n",
       "  'clientTransferProhibited (https://www.icann.org/epp#clientTransferProhibited)',\n",
       "  'clientDeleteProhibited (https://www.icann.org/epp#clientDeleteProhibited)',\n",
       "  'serverUpdateProhibited (https://www.icann.org/epp#serverUpdateProhibited)',\n",
       "  'serverTransferProhibited (https://www.icann.org/epp#serverTransferProhibited)',\n",
       "  'serverDeleteProhibited (https://www.icann.org/epp#serverDeleteProhibited)'],\n",
       " 'emails': ['abusecomplaints@markmonitor.com', 'whoisrelay@markmonitor.com'],\n",
       " 'dnssec': 'unsigned',\n",
       " 'name': None,\n",
       " 'org': 'Google LLC',\n",
       " 'address': None,\n",
       " 'city': None,\n",
       " 'state': 'CA',\n",
       " 'zipcode': None,\n",
       " 'country': 'US'}"
      ]
     },
     "execution_count": 11,
     "metadata": {},
     "output_type": "execute_result"
    }
   ],
   "source": [
    "import whois #利用whois模块的whois方法可以直接查询域名信息\n",
    "whois.whois('appspot.com')"
   ]
  },
  {
   "cell_type": "markdown",
   "metadata": {},
   "source": [
    "## 1.6 编写第一个网络爬虫"
   ]
  },
  {
   "cell_type": "code",
   "execution_count": 19,
   "metadata": {},
   "outputs": [
    {
     "name": "stdout",
     "output_type": "stream",
     "text": [
      "<!--[if HTML5]><![endif]-->\n",
      "<!DOCTYPE html>\n",
      "<!-- paulirish.com/2008/conditional-stylesheets-vs-css-hacks-answer-neither/ -->\n",
      "<!--[if lt IE 7]><html class=\"ie ie6 ie-lte9 ie-lte8 ie-lte7 no-js\" lang=\"en-us\"> <![endif]-->\n",
      "<!--[if IE 7]><html class=\"ie ie7 ie-lte9 ie-lte8 ie-lte7 no-js\" lang=\"en-us\"> <![endif]-->\n",
      "<!--[if IE 8]><html class=\"ie ie8 ie-lte9 ie-lte8 no-js\" lang=\"en-us\"> <![endif]-->\n",
      "<!--[if IE 9]><html class=\"ie9 ie-lte9 no-js\" lang=\"en-us\"> <![endif]-->\n",
      "<!--[if (gt IE 9)|!(IE)]><!--> <html class=\"no-js\" lang=\"en-us\"> <!--<![endif]-->\n",
      "<head>\n",
      "<title>Example web scraping website</title>\n",
      "  <!--[if !HTML5]>\n",
      "      <meta http-equiv=\"X-UA-Compatible\" content=\"IE=edge,chrome=1\">\n",
      "  <![endif]-->\n",
      "  <!-- www.phpied.com/conditional-comments-block-downloads/ -->\n",
      "  <!-- Always force latest IE rendering engine\n",
      "       (even in intranet) & Chrome Frame\n",
      "       Remove this if you use the .htaccess -->\n",
      "\t   \n",
      "  <meta charset=\"utf-8\" />\n",
      "\n",
      "  <!-- http://dev.w3.org/html5/markup/meta.name.html -->\n",
      "  <meta name=\"application-name\" content=\"places\" />\n",
      "\n",
      "  <!--  Mobile Viewport Fix\n",
      "        j.mp/mobileviewport & davidbcalhoun.com/2010/viewport-metatag\n",
      "        device-width: Occupy full width of the screen in its current orientation\n",
      "        initial-scale = 1.0 retains dimensions instead of zooming out if page height > device height\n",
      "        user-scalable = yes allows the user to zoom in -->\n",
      "  <meta name=\"viewport\" content=\"width=device-width, initial-scale=1.0\" />\n",
      "\n",
      "  <link rel=\"shortcut icon\" href=\"/places/static/images/favicon.ico\" type=\"image/x-icon\">\n",
      "  <link rel=\"apple-touch-icon\" href=\"/places/static/images/favicon.png\">\n",
      "\n",
      "  <!-- All JavaScript at the bottom, except for Modernizr which enables\n",
      "       HTML5 elements & feature detects -->\n",
      "  <script src=\"/places/static/js/modernizr.custom.js\"></script>\n",
      "\n",
      "  <!-- include stylesheets -->\n",
      "  \n",
      "\n",
      "  <script type=\"text/javascript\"><!--\n",
      "    // These variables are used by the web2py_ajax_init function in web2py_ajax.js (which is loaded below).\n",
      "    var w2p_ajax_confirm_message = \"Are you sure you want to delete this object?\";\n",
      "    var w2p_ajax_disable_with_message = \"Working...\";\n",
      "    var w2p_ajax_date_format = \"%Y-%m-%d\";\n",
      "    var w2p_ajax_datetime_format = \"%Y-%m-%d %H:%M:%S\";\n",
      "    var ajax_error_500 = 'An error occured, please <a href=\"/places/default/index\">reload</a> the page'\n",
      "    //--></script>\n",
      "\n",
      "<meta name=\"keywords\" content=\"web2py, python, web scraping\" />\n",
      "<meta name=\"generator\" content=\"Web2py Web Framework\" />\n",
      "<meta name=\"author\" content=\"Richard Penman\" />\n",
      "<script src=\"/places/static/js/jquery.js\" type=\"text/javascript\"></script><link href=\"/places/static/css/calendar.css\" rel=\"stylesheet\" type=\"text/css\" /><script src=\"/places/static/js/calendar.js\" type=\"text/javascript\"></script><script src=\"/places/static/js/web2py.js\" type=\"text/javascript\"></script><link href=\"/places/static/css/web2py.css\" rel=\"stylesheet\" type=\"text/css\" /><link href=\"/places/static/css/bootstrap.min.css\" rel=\"stylesheet\" type=\"text/css\" /><link href=\"/places/static/css/bootstrap-responsive.min.css\" rel=\"stylesheet\" type=\"text/css\" /><link href=\"/places/static/css/style.css\" rel=\"stylesheet\" type=\"text/css\" /><link href=\"/places/static/css/web2py_bootstrap.css\" rel=\"stylesheet\" type=\"text/css\" />\n",
      "\n",
      "\n",
      "  \n",
      "\n",
      "  <!-- uncomment here to load jquery-ui\n",
      "       <link rel=\"stylesheet\" href=\"http://ajax.googleapis.com/ajax/libs/jqueryui/1.10.3/themes/ui-lightness/jquery-ui.css\" type=\"text/css\" media=\"all\" />\n",
      "       <script src=\"http://ajax.googleapis.com/ajax/libs/jqueryui/1.10.3/jquery-ui.min.js\" type=\"text/javascript\"></script>\n",
      "       uncomment to load jquery-ui //-->\n",
      "  <noscript><link href=\"/places/static/css/web2py_bootstrap_nojs.css\" rel=\"stylesheet\" type=\"text/css\" /></noscript>\n",
      "  \n",
      "</head>\n",
      "\n",
      "<body>\n",
      "  <!-- Navbar ================================================== -->\n",
      "  <div class=\"navbar navbar-inverse\">\n",
      "    <div class=\"flash\"></div>\n",
      "    <div class=\"navbar-inner\">\n",
      "      <div class=\"container\">\n",
      "        \n",
      "        <!-- the next tag is necessary for bootstrap menus, do not remove -->\n",
      "        <button type=\"button\" class=\"btn btn-navbar\" data-toggle=\"collapse\" data-target=\".nav-collapse\" style=\"display:none;\">\n",
      "          <span class=\"icon-bar\"></span>\n",
      "          <span class=\"icon-bar\"></span>\n",
      "          <span class=\"icon-bar\"></span>\n",
      "        </button>\n",
      "        \n",
      "        <ul id=\"navbar\" class=\"nav pull-right\"><li class=\"dropdown\"><a class=\"dropdown-toggle\" data-toggle=\"dropdown\" href=\"#\" rel=\"nofollow\">Log In</a><ul class=\"dropdown-menu\"><li><a href=\"/places/default/user/register?_next=/places/default/index\" rel=\"nofollow\"><i class=\"icon icon-user glyphicon glyphicon-user\"></i> Sign Up</a></li><li class=\"divider\"></li><li><a href=\"/places/default/user/login?_next=/places/default/index\" rel=\"nofollow\"><i class=\"icon icon-off glyphicon glyphicon-off\"></i> Log In</a></li></ul></li></ul>\n",
      "        <div class=\"nav\">\n",
      "          \n",
      "          <ul class=\"nav\"><li class=\"web2py-menu-first\"><a href=\"/places/default/index\">Home</a></li><li class=\"web2py-menu-last\"><a href=\"/places/default/search\">Search</a></li></ul>\n",
      "          \n",
      "        </div><!--/.nav-collapse -->\n",
      "      </div>\n",
      "    </div>\n",
      "  </div><!--/top navbar -->\n",
      "\n",
      "  <div class=\"container\">\n",
      "    <!-- Masthead ================================================== -->\n",
      "      \n",
      "    <header class=\"mastheader row\" id=\"header\">\n",
      "        <div class=\"span12\">\n",
      "            <div class=\"page-header\">\n",
      "                <h1>\n",
      "                    Example web scraping website\n",
      "                    <small></small>\n",
      "                </h1>\n",
      "            </div>\n",
      "        </div>\n",
      "    </header>\n",
      "\t\n",
      "\n",
      "    <section id=\"main\" class=\"main row\">\n",
      "        \n",
      "\n",
      "        <div class=\"span12\">\n",
      "            \n",
      "            \n",
      "\n",
      "<div id=\"results\">\n",
      "<table><tr><td><div><a href=\"/places/default/view/Afghanistan-1\"><img src=\"/places/static/images/flags/af.png\" /> Afghanistan</a></div></td><td><div><a href=\"/places/default/view/Aland-Islands-2\"><img src=\"/places/static/images/flags/ax.png\" /> Aland Islands</a></div></td></tr><tr><td><div><a href=\"/places/default/view/Albania-3\"><img src=\"/places/static/images/flags/al.png\" /> Albania</a></div></td><td><div><a href=\"/places/default/view/Algeria-4\"><img src=\"/places/static/images/flags/dz.png\" /> Algeria</a></div></td></tr><tr><td><div><a href=\"/places/default/view/American-Samoa-5\"><img src=\"/places/static/images/flags/as.png\" /> American Samoa</a></div></td><td><div><a href=\"/places/default/view/Andorra-6\"><img src=\"/places/static/images/flags/ad.png\" /> Andorra</a></div></td></tr><tr><td><div><a href=\"/places/default/view/Angola-7\"><img src=\"/places/static/images/flags/ao.png\" /> Angola</a></div></td><td><div><a href=\"/places/default/view/Anguilla-8\"><img src=\"/places/static/images/flags/ai.png\" /> Anguilla</a></div></td></tr><tr><td><div><a href=\"/places/default/view/Antarctica-9\"><img src=\"/places/static/images/flags/aq.png\" /> Antarctica</a></div></td><td><div><a href=\"/places/default/view/Antigua-and-Barbuda-10\"><img src=\"/places/static/images/flags/ag.png\" /> Antigua and Barbuda</a></div></td></tr></table>\n",
      "</div>\n",
      "\n",
      "<div id=\"pagination\">\n",
      "\n",
      "    &lt; Previous\n",
      "\n",
      "|\n",
      "\n",
      "    <a href=\"/places/default/index/1\">Next &gt;</a>\n",
      "\n",
      "</div>\n",
      "\n",
      "            \n",
      "        </div>\n",
      "\n",
      "        \n",
      "    </section><!--/main-->\n",
      "\n",
      "    <!-- Footer ================================================== -->\n",
      "    <div class=\"row\">\n",
      "        <footer class=\"footer span12\" id=\"footer\">\n",
      "        </footer>\n",
      "    </div>\n",
      "\n",
      "  </div> <!-- /container -->\n",
      "\n",
      "  <!-- The javascript =============================================\n",
      "       (Placed at the end of the document so the pages load faster) -->\n",
      "  <script src=\"/places/static/js/bootstrap.min.js\"></script>\n",
      "  <script src=\"/places/static/js/web2py_bootstrap.js\"></script>\n",
      "  <!--[if lt IE 7 ]>\n",
      "      <script src=\"/places/static/js/dd_belatedpng.js\"></script>\n",
      "      <script> DD_belatedPNG.fix('img, .png_bg'); //fix any <img> or .png_bg background-images </script>\n",
      "      <![endif]-->\n",
      "</body>\n",
      "</html>\n",
      "\n",
      "\n"
     ]
    }
   ],
   "source": [
    "from urllib import request\n",
    "def download(url):\n",
    "    respond  = request.urlopen(url)\n",
    "    html = respond.read()\n",
    "    \n",
    "    return html.decode('utf-8')\n",
    "\n",
    "print(download('http://example.webscraping.com/'))"
   ]
  },
  {
   "cell_type": "markdown",
   "metadata": {},
   "source": [
    "# <a href='https://docs.python.org/3/tutorial/modules.html#tut-packages'>Python tutorial</a>"
   ]
  },
  {
   "attachments": {
    "image.png": {
     "image/png": "[encoded data removed]"
    }
   },
   "cell_type": "markdown",
   "metadata": {},
   "source": [
    "![image.png](attachment:image.png)"
   ]
  },
  {
   "cell_type": "code",
   "execution_count": 40,
   "metadata": {},
   "outputs": [
    {
     "name": "stdout",
     "output_type": "stream",
     "text": [
      "Downloading: http://httpstat.us/500\n",
      "Dlonload error: Internal Server Error\n",
      "None\n"
     ]
    }
   ],
   "source": [
    "from urllib import request,error\n",
    "\n",
    "def download(url):\n",
    "    print('Downloading:',url)\n",
    "  \n",
    "    try:\n",
    "        html = request.urlopen(url).read()\n",
    "    except error.URLError as e:  #当出现错误时，捕获异常，返回None\n",
    "        print('Dlonload error:',e.reason)\n",
    "        html = None\n",
    "    return html\n",
    "print(download('http://httpstat.us/500'))"
   ]
  },
  {
   "cell_type": "code",
   "execution_count": 37,
   "metadata": {},
   "outputs": [
    {
     "name": "stdout",
     "output_type": "stream",
     "text": [
      "Downloading: http://example.webscraping.com/\n",
      "<!--[if HTML5]><![endif]-->\n",
      "<!DOCTYPE html>\n",
      "<!-- paulirish.com/2008/conditional-stylesheets-vs-css-hacks-answer-neither/ -->\n",
      "<!--[if lt IE 7]><html class=\"ie ie6 ie-lte9 ie-lte8 ie-lte7 no-js\" lang=\"en-us\"> <![endif]-->\n",
      "<!--[if IE 7]><html class=\"ie ie7 ie-lte9 ie-lte8 ie-lte7 no-js\" lang=\"en-us\"> <![endif]-->\n",
      "<!--[if IE 8]><html class=\"ie ie8 ie-lte9 ie-lte8 no-js\" lang=\"en-us\"> <![endif]-->\n",
      "<!--[if IE 9]><html class=\"ie9 ie-lte9 no-js\" lang=\"en-us\"> <![endif]-->\n",
      "<!--[if (gt IE 9)|!(IE)]><!--> <html class=\"no-js\" lang=\"en-us\"> <!--<![endif]-->\n",
      "<head>\n",
      "<title>Example web scraping website</title>\n",
      "  <!--[if !HTML5]>\n",
      "      <meta http-equiv=\"X-UA-Compatible\" content=\"IE=edge,chrome=1\">\n",
      "  <![endif]-->\n",
      "  <!-- www.phpied.com/conditional-comments-block-downloads/ -->\n",
      "  <!-- Always force latest IE rendering engine\n",
      "       (even in intranet) & Chrome Frame\n",
      "       Remove this if you use the .htaccess -->\n",
      "\t   \n",
      "  <meta charset=\"utf-8\" />\n",
      "\n",
      "  <!-- http://dev.w3.org/html5/markup/meta.name.html -->\n",
      "  <meta name=\"application-name\" content=\"places\" />\n",
      "\n",
      "  <!--  Mobile Viewport Fix\n",
      "        j.mp/mobileviewport & davidbcalhoun.com/2010/viewport-metatag\n",
      "        device-width: Occupy full width of the screen in its current orientation\n",
      "        initial-scale = 1.0 retains dimensions instead of zooming out if page height > device height\n",
      "        user-scalable = yes allows the user to zoom in -->\n",
      "  <meta name=\"viewport\" content=\"width=device-width, initial-scale=1.0\" />\n",
      "\n",
      "  <link rel=\"shortcut icon\" href=\"/places/static/images/favicon.ico\" type=\"image/x-icon\">\n",
      "  <link rel=\"apple-touch-icon\" href=\"/places/static/images/favicon.png\">\n",
      "\n",
      "  <!-- All JavaScript at the bottom, except for Modernizr which enables\n",
      "       HTML5 elements & feature detects -->\n",
      "  <script src=\"/places/static/js/modernizr.custom.js\"></script>\n",
      "\n",
      "  <!-- include stylesheets -->\n",
      "  \n",
      "\n",
      "  <script type=\"text/javascript\"><!--\n",
      "    // These variables are used by the web2py_ajax_init function in web2py_ajax.js (which is loaded below).\n",
      "    var w2p_ajax_confirm_message = \"Are you sure you want to delete this object?\";\n",
      "    var w2p_ajax_disable_with_message = \"Working...\";\n",
      "    var w2p_ajax_date_format = \"%Y-%m-%d\";\n",
      "    var w2p_ajax_datetime_format = \"%Y-%m-%d %H:%M:%S\";\n",
      "    var ajax_error_500 = 'An error occured, please <a href=\"/places/default/index\">reload</a> the page'\n",
      "    //--></script>\n",
      "\n",
      "<meta name=\"keywords\" content=\"web2py, python, web scraping\" />\n",
      "<meta name=\"generator\" content=\"Web2py Web Framework\" />\n",
      "<meta name=\"author\" content=\"Richard Penman\" />\n",
      "<script src=\"/places/static/js/jquery.js\" type=\"text/javascript\"></script><link href=\"/places/static/css/calendar.css\" rel=\"stylesheet\" type=\"text/css\" /><script src=\"/places/static/js/calendar.js\" type=\"text/javascript\"></script><script src=\"/places/static/js/web2py.js\" type=\"text/javascript\"></script><link href=\"/places/static/css/web2py.css\" rel=\"stylesheet\" type=\"text/css\" /><link href=\"/places/static/css/bootstrap.min.css\" rel=\"stylesheet\" type=\"text/css\" /><link href=\"/places/static/css/bootstrap-responsive.min.css\" rel=\"stylesheet\" type=\"text/css\" /><link href=\"/places/static/css/style.css\" rel=\"stylesheet\" type=\"text/css\" /><link href=\"/places/static/css/web2py_bootstrap.css\" rel=\"stylesheet\" type=\"text/css\" />\n",
      "\n",
      "\n",
      "  \n",
      "\n",
      "  <!-- uncomment here to load jquery-ui\n",
      "       <link rel=\"stylesheet\" href=\"http://ajax.googleapis.com/ajax/libs/jqueryui/1.10.3/themes/ui-lightness/jquery-ui.css\" type=\"text/css\" media=\"all\" />\n",
      "       <script src=\"http://ajax.googleapis.com/ajax/libs/jqueryui/1.10.3/jquery-ui.min.js\" type=\"text/javascript\"></script>\n",
      "       uncomment to load jquery-ui //-->\n",
      "  <noscript><link href=\"/places/static/css/web2py_bootstrap_nojs.css\" rel=\"stylesheet\" type=\"text/css\" /></noscript>\n",
      "  \n",
      "</head>\n",
      "\n",
      "<body>\n",
      "  <!-- Navbar ================================================== -->\n",
      "  <div class=\"navbar navbar-inverse\">\n",
      "    <div class=\"flash\"></div>\n",
      "    <div class=\"navbar-inner\">\n",
      "      <div class=\"container\">\n",
      "        \n",
      "        <!-- the next tag is necessary for bootstrap menus, do not remove -->\n",
      "        <button type=\"button\" class=\"btn btn-navbar\" data-toggle=\"collapse\" data-target=\".nav-collapse\" style=\"display:none;\">\n",
      "          <span class=\"icon-bar\"></span>\n",
      "          <span class=\"icon-bar\"></span>\n",
      "          <span class=\"icon-bar\"></span>\n",
      "        </button>\n",
      "        \n",
      "        <ul id=\"navbar\" class=\"nav pull-right\"><li class=\"dropdown\"><a class=\"dropdown-toggle\" data-toggle=\"dropdown\" href=\"#\" rel=\"nofollow\">Log In</a><ul class=\"dropdown-menu\"><li><a href=\"/places/default/user/register?_next=/places/default/index\" rel=\"nofollow\"><i class=\"icon icon-user glyphicon glyphicon-user\"></i> Sign Up</a></li><li class=\"divider\"></li><li><a href=\"/places/default/user/login?_next=/places/default/index\" rel=\"nofollow\"><i class=\"icon icon-off glyphicon glyphicon-off\"></i> Log In</a></li></ul></li></ul>\n",
      "        <div class=\"nav\">\n",
      "          \n",
      "          <ul class=\"nav\"><li class=\"web2py-menu-first\"><a href=\"/places/default/index\">Home</a></li><li class=\"web2py-menu-last\"><a href=\"/places/default/search\">Search</a></li></ul>\n",
      "          \n",
      "        </div><!--/.nav-collapse -->\n",
      "      </div>\n",
      "    </div>\n",
      "  </div><!--/top navbar -->\n",
      "\n",
      "  <div class=\"container\">\n",
      "    <!-- Masthead ================================================== -->\n",
      "      \n",
      "    <header class=\"mastheader row\" id=\"header\">\n",
      "        <div class=\"span12\">\n",
      "            <div class=\"page-header\">\n",
      "                <h1>\n",
      "                    Example web scraping website\n",
      "                    <small></small>\n",
      "                </h1>\n",
      "            </div>\n",
      "        </div>\n",
      "    </header>\n",
      "\t\n",
      "\n",
      "    <section id=\"main\" class=\"main row\">\n",
      "        \n",
      "\n",
      "        <div class=\"span12\">\n",
      "            \n",
      "            \n",
      "\n",
      "<div id=\"results\">\n",
      "<table><tr><td><div><a href=\"/places/default/view/Afghanistan-1\"><img src=\"/places/static/images/flags/af.png\" /> Afghanistan</a></div></td><td><div><a href=\"/places/default/view/Aland-Islands-2\"><img src=\"/places/static/images/flags/ax.png\" /> Aland Islands</a></div></td></tr><tr><td><div><a href=\"/places/default/view/Albania-3\"><img src=\"/places/static/images/flags/al.png\" /> Albania</a></div></td><td><div><a href=\"/places/default/view/Algeria-4\"><img src=\"/places/static/images/flags/dz.png\" /> Algeria</a></div></td></tr><tr><td><div><a href=\"/places/default/view/American-Samoa-5\"><img src=\"/places/static/images/flags/as.png\" /> American Samoa</a></div></td><td><div><a href=\"/places/default/view/Andorra-6\"><img src=\"/places/static/images/flags/ad.png\" /> Andorra</a></div></td></tr><tr><td><div><a href=\"/places/default/view/Angola-7\"><img src=\"/places/static/images/flags/ao.png\" /> Angola</a></div></td><td><div><a href=\"/places/default/view/Anguilla-8\"><img src=\"/places/static/images/flags/ai.png\" /> Anguilla</a></div></td></tr><tr><td><div><a href=\"/places/default/view/Antarctica-9\"><img src=\"/places/static/images/flags/aq.png\" /> Antarctica</a></div></td><td><div><a href=\"/places/default/view/Antigua-and-Barbuda-10\"><img src=\"/places/static/images/flags/ag.png\" /> Antigua and Barbuda</a></div></td></tr></table>\n",
      "</div>\n",
      "\n",
      "<div id=\"pagination\">\n",
      "\n",
      "    &lt; Previous\n",
      "\n",
      "|\n",
      "\n",
      "    <a href=\"/places/default/index/1\">Next &gt;</a>\n",
      "\n",
      "</div>\n",
      "\n",
      "            \n",
      "        </div>\n",
      "\n",
      "        \n",
      "    </section><!--/main-->\n",
      "\n",
      "    <!-- Footer ================================================== -->\n",
      "    <div class=\"row\">\n",
      "        <footer class=\"footer span12\" id=\"footer\">\n",
      "        </footer>\n",
      "    </div>\n",
      "\n",
      "  </div> <!-- /container -->\n",
      "\n",
      "  <!-- The javascript =============================================\n",
      "       (Placed at the end of the document so the pages load faster) -->\n",
      "  <script src=\"/places/static/js/bootstrap.min.js\"></script>\n",
      "  <script src=\"/places/static/js/web2py_bootstrap.js\"></script>\n",
      "  <!--[if lt IE 7 ]>\n",
      "      <script src=\"/places/static/js/dd_belatedpng.js\"></script>\n",
      "      <script> DD_belatedPNG.fix('img, .png_bg'); //fix any <img> or .png_bg background-images </script>\n",
      "      <![endif]-->\n",
      "</body>\n",
      "</html>\n",
      "\n",
      "\n"
     ]
    }
   ],
   "source": [
    "from urllib import request\n",
    "def download(url):\n",
    "    print('Downloading:',url)\n",
    "  \n",
    "    try:\n",
    "        html = request.urlopen(url).read()\n",
    "    except urllib.URLError as e:  #当出现错误时，捕获异常，返回None\n",
    "        print('Dlonload error:',e.reason)\n",
    "        html = None\n",
    "    return html.decode('utf-8')\n",
    "print(download('http://example.webscraping.com/'))"
   ]
  },
  {
   "cell_type": "markdown",
   "metadata": {},
   "source": [
    "下载时遇到的错误经常是临时性的， 比如服务器过载时返回的503 Service Unavailable错误。对于此类错误，可以尝试重新下载.\n",
    "\n",
    "如果服务器返回的是404 Not Found 这种错误， 则说明该网页目前并不存在， 再次尝试同样的请求一般也不会出现不同的结果。\n",
    "\n",
    "4xx 错误发生在请求存在问题时，5xx 错误则发生在服务端存在问题时。所以， 我们只需要确保download函数在发生5xx 错误时重试下载即可。\n",
    "\n",
    "<a href = 'https://tools.ietf.org/html/rfc7231#section-6'>HTTP错误列表</a>"
   ]
  },
  {
   "cell_type": "code",
   "execution_count": 41,
   "metadata": {},
   "outputs": [
    {
     "name": "stdout",
     "output_type": "stream",
     "text": [
      "Downloading: http://httpstat.us/500\n",
      "Download error: Internal Server Error\n",
      "Downloading: http://httpstat.us/500\n",
      "Download error: Internal Server Error\n",
      "Downloading: http://httpstat.us/500\n",
      "Download error: Internal Server Error\n",
      "None\n"
     ]
    }
   ],
   "source": [
    "# 支持重试下载功能\n",
    "from urllib import request\n",
    "from urllib import error\n",
    "def download(url, num_retries=2):\n",
    "    print('Downloading:', url)\n",
    "    try:\n",
    "        html = request.urlopen(url).read()\n",
    "    except error.URLError as e:\n",
    "        print('Download error:',e.reason)\n",
    "        html = None\n",
    "        if num_retries > 0:\n",
    "            if hasattr(e, 'code') and 500 <= e.code < 600:\n",
    "                # recursively retry 5xx HTTP errors\n",
    "                return download(url, num_retries-1)\n",
    "    return html\n",
    "#print(download('http://example.webscraping.com/'))    \n",
    "print(download('http://httpstat.us/500'))"
   ]
  },
  {
   "cell_type": "code",
   "execution_count": null,
   "metadata": {},
   "outputs": [],
   "source": [
    "书中用的是python2.7,  try:\n",
    "                     except urllib2.URLError as e.reason :\n",
    "\n",
    "在python3.6下， 写法: from urllib import error\n",
    "                     try:\n",
    "                     \n",
    "                     except error.URLError as e:\n",
    "                     \n",
    "                     print(e.reason)"
   ]
  }
 ],
 "metadata": {
  "kernelspec": {
   "display_name": "Python 3",
   "language": "python",
   "name": "python3"
  },
  "language_info": {
   "codemirror_mode": {
    "name": "ipython",
    "version": 3
   },
   "file_extension": ".py",
   "mimetype": "text/x-python",
   "name": "python",
   "nbconvert_exporter": "python",
   "pygments_lexer": "ipython3",
   "version": "3.6.5"
  }
 },
 "nbformat": 4,
 "nbformat_minor": 2
}
